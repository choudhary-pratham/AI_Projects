{
 "cells": [
  {
   "cell_type": "code",
   "execution_count": 1,
   "source": [
    "import cv2\r\n",
    "from tensorflow.keras.models import load_model\r\n",
    "from keras.preprocessing.image import load_img , img_to_array\r\n",
    "import numpy as np\r\n",
    "\r\n",
    "model =load_model('savedmodel.h5')\r\n",
    "\r\n",
    "img_width , img_height = 150,150\r\n",
    "\r\n",
    "face_cascade = cv2.CascadeClassifier('haarcascade_frontalface_default.xml')\r\n",
    "\r\n",
    "cap = cv2.VideoCapture('video.mp4')\r\n",
    "\r\n",
    "img_count_full = 0\r\n",
    "\r\n",
    "font = cv2.FONT_HERSHEY_SIMPLEX\r\n",
    "org = (1,1)\r\n",
    "class_label = ''\r\n",
    "fontScale = 1\r\n",
    "color = (255,0,0)\r\n",
    "thickness = 2\r\n",
    "\r\n",
    "while True:\r\n",
    "    img_count_full += 1\r\n",
    "    response , color_img = cap.read()\r\n",
    "\r\n",
    "    if response == False:\r\n",
    "        break\r\n",
    "\r\n",
    "    scale = 50\r\n",
    "    width = int(color_img.shape[1]*scale /100)\r\n",
    "    height = int(color_img.shape[0]*scale/100)\r\n",
    "    dim = (width,height)\r\n",
    "\r\n",
    "    color_img = cv2.resize(color_img, dim ,interpolation= cv2.INTER_AREA)\r\n",
    "\r\n",
    "    gray_img = cv2.cvtColor(color_img,cv2.COLOR_BGR2GRAY)\r\n",
    "\r\n",
    "    faces = face_cascade.detectMultiScale(gray_img, 1.1, 6)\r\n",
    "\r\n",
    "    img_count = 0\r\n",
    "    for (x,y,w,h) in faces:\r\n",
    "        org = (x-10,y-10)\r\n",
    "        img_count += 1\r\n",
    "        color_face = color_img[y:y+h,x:x+w]\r\n",
    "        cv2.imwrite('input/%d%dface.jpg'%(img_count_full,img_count),color_face)\r\n",
    "        img = load_img('input/%d%dface.jpg'%(img_count_full,img_count),target_size=(img_width,img_height))\r\n",
    "        img = img_to_array(img)\r\n",
    "        img = np.expand_dims(img,axis=0)\r\n",
    "        prediction = model.predict(img)\r\n",
    "\r\n",
    "\r\n",
    "        if prediction==0:\r\n",
    "            class_label = \"Mask\"\r\n",
    "            color = (255,0,0)\r\n",
    "\r\n",
    "        else:\r\n",
    "            class_label = \"No Mask\"\r\n",
    "            color = (0,255,0)\r\n",
    "\r\n",
    "\r\n",
    "        cv2.rectangle(color_img,(x,y),(x+w,y+h),(0,0,255),3)\r\n",
    "        cv2.putText(color_img, class_label, org, font ,fontScale, color, thickness,cv2.LINE_AA)\r\n",
    "\r\n",
    "    cv2.imshow('Face mask detection', color_img)\r\n",
    "    if cv2.waitKey(1) & 0xFF == ord('q'):\r\n",
    "        break\r\n",
    "\r\n",
    "cap.release()\r\n",
    "cv2.destroyAllWindows()\r\n",
    "\r\n"
   ],
   "outputs": [
    {
     "output_type": "error",
     "ename": "ModuleNotFoundError",
     "evalue": "No module named 'cv2'",
     "traceback": [
      "\u001b[1;31m---------------------------------------------------------------------------\u001b[0m",
      "\u001b[1;31mModuleNotFoundError\u001b[0m                       Traceback (most recent call last)",
      "\u001b[1;32m~\\AppData\\Local\\Temp/ipykernel_14388/3310319325.py\u001b[0m in \u001b[0;36m<module>\u001b[1;34m\u001b[0m\n\u001b[1;32m----> 1\u001b[1;33m \u001b[1;32mimport\u001b[0m \u001b[0mcv2\u001b[0m\u001b[1;33m\u001b[0m\u001b[1;33m\u001b[0m\u001b[0m\n\u001b[0m\u001b[0;32m      2\u001b[0m \u001b[1;32mfrom\u001b[0m \u001b[0mtensorflow\u001b[0m\u001b[1;33m.\u001b[0m\u001b[0mkeras\u001b[0m\u001b[1;33m.\u001b[0m\u001b[0mmodels\u001b[0m \u001b[1;32mimport\u001b[0m \u001b[0mload_model\u001b[0m\u001b[1;33m\u001b[0m\u001b[1;33m\u001b[0m\u001b[0m\n\u001b[0;32m      3\u001b[0m \u001b[1;32mfrom\u001b[0m \u001b[0mkeras\u001b[0m\u001b[1;33m.\u001b[0m\u001b[0mpreprocessing\u001b[0m\u001b[1;33m.\u001b[0m\u001b[0mimage\u001b[0m \u001b[1;32mimport\u001b[0m \u001b[0mload_img\u001b[0m \u001b[1;33m,\u001b[0m \u001b[0mimg_to_array\u001b[0m\u001b[1;33m\u001b[0m\u001b[1;33m\u001b[0m\u001b[0m\n\u001b[0;32m      4\u001b[0m \u001b[1;32mimport\u001b[0m \u001b[0mnumpy\u001b[0m \u001b[1;32mas\u001b[0m \u001b[0mnp\u001b[0m\u001b[1;33m\u001b[0m\u001b[1;33m\u001b[0m\u001b[0m\n\u001b[0;32m      5\u001b[0m \u001b[1;33m\u001b[0m\u001b[0m\n",
      "\u001b[1;31mModuleNotFoundError\u001b[0m: No module named 'cv2'"
     ]
    }
   ],
   "metadata": {
    "id": "MI2uEoUTjEBo"
   }
  },
  {
   "cell_type": "code",
   "execution_count": null,
   "source": [],
   "outputs": [],
   "metadata": {}
  },
  {
   "cell_type": "code",
   "execution_count": null,
   "source": [],
   "outputs": [],
   "metadata": {}
  }
 ],
 "metadata": {
  "colab": {
   "name": "Untitled17.ipynb",
   "provenance": []
  },
  "kernelspec": {
   "name": "python3",
   "display_name": "Python 3.8.0 64-bit"
  },
  "language_info": {
   "codemirror_mode": {
    "name": "ipython",
    "version": 3
   },
   "file_extension": ".py",
   "mimetype": "text/x-python",
   "name": "python",
   "nbconvert_exporter": "python",
   "pygments_lexer": "ipython3",
   "version": "3.8.0"
  },
  "interpreter": {
   "hash": "631ce9ff5e6211109a23f0d6cf16cf4864bea5b930902d7be01cf34d43487805"
  }
 },
 "nbformat": 4,
 "nbformat_minor": 1
}